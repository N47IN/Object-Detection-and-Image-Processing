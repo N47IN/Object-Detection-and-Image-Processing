{
  "nbformat": 4,
  "nbformat_minor": 0,
  "metadata": {
    "colab": {
      "provenance": [],
      "gpuType": "T4",
      "include_colab_link": true
    },
    "kernelspec": {
      "name": "python3",
      "display_name": "Python 3 (ipykernel)",
      "language": "python"
    },
    "language_info": {
      "name": "python"
    },
    "accelerator": "GPU"
  },
  "cells": [
    {
      "cell_type": "markdown",
      "metadata": {
        "id": "view-in-github",
        "colab_type": "text"
      },
      "source": [
        "<a href=\"https://colab.research.google.com/github/N47IN/Object-Detection-and-Image-Processing/blob/main/nlf_pose_estimation.ipynb\" target=\"_parent\"><img src=\"https://colab.research.google.com/assets/colab-badge.svg\" alt=\"Open In Colab\"/></a>"
      ]
    },
    {
      "cell_type": "code",
      "metadata": {
        "id": "z9M_fO5v8mW4"
      },
      "source": [
        "# PyTorch version\n",
        "\n",
        "import torch\n",
        "import torchvision  # Must import this for the model to load without error\n",
        "! git clone https://github.com/isarandi/nlf.git\n",
        "! mkdir -p models\n",
        "! wget -q -O models/nlf_l_multi.torchscript https://bit.ly/nlf_l_pt\n",
        "model = torch.jit.load('models/nlf_l_multi.torchscript').cuda().eval()\n"
      ],
      "outputs": [],
      "execution_count": null
    },
    {
      "cell_type": "code",
      "metadata": {
        "id": "Axm3SI936RD6"
      },
      "source": [
        "\n",
        "image = torchvision.io.read_image('example_image.jpg').cuda()\n",
        "frame_batch = image.unsqueeze(0)\n",
        "\n",
        "with torch.inference_mode(), torch.device('cuda'):\n",
        "   pred = model.detect_smpl_batched(frame_batch)\n",
        "\n",
        "# SMPL Parametric predictions\n",
        "pred['pose'], pred['betas'], pred['trans']\n",
        "pred['joints3d'], pred['vertices3d']\n",
        "pred['joints2d'], pred['vertices2d']\n",
        "\n",
        "# Nonparametric joints and vertices\n",
        "pred['joints3d_nonparam'], pred['vertices3d_nonparam']\n",
        "pred['joints2d_nonparam'], pred['vertices2d_nonparam']\n",
        "pred['joint_uncertainties'], pred['vertex_uncertainties']"
      ],
      "outputs": [],
      "execution_count": null
    },
    {
      "cell_type": "code",
      "source": [
        "vertices_list = pred['vertices3d_nonparam']\n",
        "\n",
        "# Convert list to tensor and get desired shape\n",
        "vertices_tensor = torch.stack(vertices_list)  # Shape: (1, 2, 1024, 3)\n",
        "vertices_tensor = vertices_tensor.squeeze(0)[0]  # Remove batch dim and select first set: (1024, 3)\n",
        "\n",
        "# Convert to NumPy\n",
        "vertices_numpy = vertices_tensor.cpu().detach().numpy()\n",
        "print(vertices_numpy.shape)  # (1024, 3)\n",
        "\n",
        "# Create Open3D PointCloud object\n",
        "point_cloud = o3d.geometry.PointCloud()\n",
        "point_cloud.points = o3d.utility.Vector3dVector(vertices_numpy)\n",
        "\n",
        "# Save the point cloud as a .ply file\n",
        "o3d.io.write_point_cloud(\"/mnt/data/point_cloud.ply\", point_cloud)\n",
        "\n",
        "print(\"Point cloud saved to '/mnt/data/point_cloud.ply'\")"
      ],
      "metadata": {
        "id": "NUglqvsEOsvl"
      },
      "execution_count": null,
      "outputs": []
    }
  ]
}